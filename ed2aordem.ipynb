{
 "cells": [
  {
   "cell_type": "markdown",
   "metadata": {},
   "source": [
    "# DETERMINANDO EQUAÇÕES LINEARES DE 2a ORDEM"
   ]
  },
  {
   "cell_type": "code",
   "execution_count": 1,
   "metadata": {},
   "outputs": [],
   "source": [
    "import math\n",
    "from sympy import *\n",
    "from math import e"
   ]
  },
  {
   "cell_type": "markdown",
   "metadata": {},
   "source": [
    "### Insira o coeficiente de y\""
   ]
  },
  {
   "cell_type": "code",
   "execution_count": 2,
   "metadata": {},
   "outputs": [],
   "source": [
    "yll = 1"
   ]
  },
  {
   "cell_type": "markdown",
   "metadata": {},
   "source": [
    "### Insira o coeficiente de y'"
   ]
  },
  {
   "cell_type": "code",
   "execution_count": 3,
   "metadata": {},
   "outputs": [],
   "source": [
    "yl = -25"
   ]
  },
  {
   "cell_type": "markdown",
   "metadata": {},
   "source": [
    "### Insira o coeficiente de y"
   ]
  },
  {
   "cell_type": "code",
   "execution_count": 4,
   "metadata": {},
   "outputs": [],
   "source": [
    "y = 150"
   ]
  },
  {
   "cell_type": "markdown",
   "metadata": {},
   "source": [
    "# Transformando"
   ]
  },
  {
   "cell_type": "code",
   "execution_count": 5,
   "metadata": {},
   "outputs": [],
   "source": [
    "a = yll\n",
    "b = yl\n",
    "c = y"
   ]
  },
  {
   "cell_type": "markdown",
   "metadata": {},
   "source": [
    "## Calculando as raízes:"
   ]
  },
  {
   "cell_type": "code",
   "execution_count": 6,
   "metadata": {},
   "outputs": [],
   "source": [
    "dlt = (b*b)-(4*a*c)"
   ]
  },
  {
   "cell_type": "code",
   "execution_count": 7,
   "metadata": {},
   "outputs": [],
   "source": [
    "from sympy import I"
   ]
  },
  {
   "cell_type": "code",
   "execution_count": 25,
   "metadata": {},
   "outputs": [
    {
     "name": "stdout",
     "output_type": "stream",
     "text": [
      "Equação do Caso 1: Delta = 25\n"
     ]
    }
   ],
   "source": [
    "if dlt > 0 :\n",
    "    rdlt = pow(dlt,0.5)\n",
    "    m1 = ((-b-rdlt)/(2*a))\n",
    "    m2 = round(((-b+rdlt)/(2*a)),2)\n",
    "    print(f'Equação do Caso 1: Delta = {dlt}')\n",
    "elif dlt == 0:\n",
    "    rdlt = 0\n",
    "    m1 = ((-b-rdlt)/(2*a))\n",
    "    m2 = round(((-b+rdlt)/(2*a)),2)\n",
    "    print(f'Equação do Caso 2: Delta = {dlt}')\n",
    "else: \n",
    "    rdlt = (pow((-1*dlt),0.5))*I\n",
    "    m3 = -b/(2*a)\n",
    "    m4 = rdlt/(2*a*I)\n",
    "    print(f'Equação do Caso 3: Delta = {dlt}')\n",
    "    "
   ]
  },
  {
   "cell_type": "code",
   "execution_count": 9,
   "metadata": {},
   "outputs": [],
   "source": [
    "m1 = ((-b-rdlt)/(2*a))"
   ]
  },
  {
   "cell_type": "code",
   "execution_count": 10,
   "metadata": {},
   "outputs": [],
   "source": [
    "m2 = round(((-b+rdlt)/(2*a)),2)"
   ]
  },
  {
   "cell_type": "code",
   "execution_count": 11,
   "metadata": {},
   "outputs": [
    {
     "name": "stdout",
     "output_type": "stream",
     "text": [
      "As raizes da equação quadrática são: 10.0 e 15.0\n"
     ]
    }
   ],
   "source": [
    "print (f\"As raizes da equação quadrática são: {m1} e {m2}\")"
   ]
  },
  {
   "cell_type": "markdown",
   "metadata": {},
   "source": [
    "# Determinando Y"
   ]
  },
  {
   "cell_type": "code",
   "execution_count": 26,
   "metadata": {},
   "outputs": [
    {
     "name": "stdout",
     "output_type": "stream",
     "text": [
      "y = C1*e^(10.0*x)+ C2*e^(15.0*x)\n"
     ]
    }
   ],
   "source": [
    "from sympy import *\n",
    "x,C1,C2,E = symbols ('x C1 C2 E')\n",
    "from math import e\n",
    "\n",
    "if dlt > 0 :\n",
    "    y = (C1*e**(m1*x)) + (C2*e**(m2*x))\n",
    "    print (f'y = {C1}*e^({m1*x})+ {C2}*e^({m2*x})')\n",
    "elif dlt == 0:\n",
    "    y = (C1*e**(m1*x)) + (C2*x*e**(m2*x))\n",
    "    print (f'y = {C1}*e^({m1*x})+ {C2}*e^({m2*x})')\n",
    "else: \n",
    "    y = (e**(m3*x))*((C1*cos(m4*x))+(C2*sin(m4*x)))\n",
    "    print (f'y = (e^({m3*x}))*({C1}*cos({m4*x})+{C2}*sen({m4*x}))')\n",
    "    "
   ]
  },
  {
   "cell_type": "markdown",
   "metadata": {},
   "source": [
    "# Achando os valores das Constantes"
   ]
  },
  {
   "cell_type": "markdown",
   "metadata": {},
   "source": [
    "### Definindo quais valores de referencia o exercício traz:"
   ]
  },
  {
   "cell_type": "code",
   "execution_count": 27,
   "metadata": {},
   "outputs": [],
   "source": [
    "y0 = 5"
   ]
  },
  {
   "cell_type": "code",
   "execution_count": 28,
   "metadata": {},
   "outputs": [],
   "source": [
    "yl0 = 10"
   ]
  },
  {
   "cell_type": "markdown",
   "metadata": {},
   "source": [
    "### Definindo qual dos três modelos de equação diferencial de segunda ordem ele irá resolver"
   ]
  },
  {
   "cell_type": "code",
   "execution_count": 29,
   "metadata": {},
   "outputs": [],
   "source": [
    "\n",
    "if dlt > 0 :\n",
    "    y = (C1*e**(m1*x)) + (C2*e**(m2*x))\n",
    "elif dlt == 0:\n",
    "    y = (C1*e**(m1*x)) + (C2*x*e**(m2*x))\n",
    "else: \n",
    "    y = (e**(m3*x))*((C1*cos(m4*x))+(C2*sin(m4*x)))"
   ]
  },
  {
   "cell_type": "markdown",
   "metadata": {},
   "source": [
    "### Calculando a formula do y:"
   ]
  },
  {
   "cell_type": "code",
   "execution_count": 30,
   "metadata": {},
   "outputs": [
    {
     "data": {
      "text/latex": [
       "$\\displaystyle 2.71828182845905^{10.0 x} C_{1} + 2.71828182845905^{15.0 x} C_{2}$"
      ],
      "text/plain": [
       "2.71828182845905**(10.0*x)*C1 + 2.71828182845905**(15.0*x)*C2"
      ]
     },
     "execution_count": 30,
     "metadata": {},
     "output_type": "execute_result"
    }
   ],
   "source": [
    "y\n"
   ]
  },
  {
   "cell_type": "markdown",
   "metadata": {},
   "source": [
    "### Calculando y':"
   ]
  },
  {
   "cell_type": "code",
   "execution_count": 31,
   "metadata": {},
   "outputs": [],
   "source": [
    "dy = y.diff(x)\n"
   ]
  },
  {
   "cell_type": "code",
   "execution_count": 32,
   "metadata": {},
   "outputs": [
    {
     "data": {
      "text/latex": [
       "$\\displaystyle 10.0 \\cdot 2.71828182845905^{10.0 x} C_{1} + 15.0 \\cdot 2.71828182845905^{15.0 x} C_{2}$"
      ],
      "text/plain": [
       "10.0*2.71828182845905**(10.0*x)*C1 + 15.0*2.71828182845905**(15.0*x)*C2"
      ]
     },
     "execution_count": 32,
     "metadata": {},
     "output_type": "execute_result"
    }
   ],
   "source": [
    "dy"
   ]
  },
  {
   "cell_type": "markdown",
   "metadata": {},
   "source": [
    "### Resolvendo y e y' para X = 0;"
   ]
  },
  {
   "cell_type": "code",
   "execution_count": 33,
   "metadata": {},
   "outputs": [],
   "source": [
    "c1 = (y.subs(x,0))"
   ]
  },
  {
   "cell_type": "code",
   "execution_count": 34,
   "metadata": {},
   "outputs": [],
   "source": [
    "c2 = (dy.subs(x,0))"
   ]
  },
  {
   "cell_type": "markdown",
   "metadata": {},
   "source": [
    "### Equação do y(0):"
   ]
  },
  {
   "cell_type": "code",
   "execution_count": 35,
   "metadata": {},
   "outputs": [
    {
     "data": {
      "text/latex": [
       "$\\displaystyle C_{1} + C_{2}$"
      ],
      "text/plain": [
       "C1 + C2"
      ]
     },
     "execution_count": 35,
     "metadata": {},
     "output_type": "execute_result"
    }
   ],
   "source": [
    "c1"
   ]
  },
  {
   "cell_type": "markdown",
   "metadata": {},
   "source": [
    "### Equação do y'(0)"
   ]
  },
  {
   "cell_type": "code",
   "execution_count": 36,
   "metadata": {},
   "outputs": [
    {
     "data": {
      "text/latex": [
       "$\\displaystyle 10.0 C_{1} + 15.0 C_{2}$"
      ],
      "text/plain": [
       "10.0*C1 + 15.0*C2"
      ]
     },
     "execution_count": 36,
     "metadata": {},
     "output_type": "execute_result"
    }
   ],
   "source": [
    "c2"
   ]
  },
  {
   "cell_type": "markdown",
   "metadata": {},
   "source": [
    "### Resolvendo o sistema linear para encontrar as constantes C1 e C2: "
   ]
  },
  {
   "cell_type": "code",
   "execution_count": 37,
   "metadata": {},
   "outputs": [],
   "source": [
    "r = solve([c1-y0,c2-yl0],(C1,C2))"
   ]
  },
  {
   "cell_type": "markdown",
   "metadata": {},
   "source": [
    "# Valor de C1 E C2:"
   ]
  },
  {
   "cell_type": "code",
   "execution_count": 54,
   "metadata": {},
   "outputs": [
    {
     "name": "stdout",
     "output_type": "stream",
     "text": [
      "{C1: 13.0000000000000, C2: -8.00000000000000}\n"
     ]
    }
   ],
   "source": [
    "print(r)"
   ]
  }
 ],
 "metadata": {
  "kernelspec": {
   "display_name": "Python 3",
   "language": "python",
   "name": "python3"
  },
  "language_info": {
   "codemirror_mode": {
    "name": "ipython",
    "version": 3
   },
   "file_extension": ".py",
   "mimetype": "text/x-python",
   "name": "python",
   "nbconvert_exporter": "python",
   "pygments_lexer": "ipython3",
   "version": "3.7.6"
  }
 },
 "nbformat": 4,
 "nbformat_minor": 4
}
