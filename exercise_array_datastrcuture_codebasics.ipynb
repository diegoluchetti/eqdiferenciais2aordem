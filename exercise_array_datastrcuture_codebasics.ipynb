{
  "nbformat": 4,
  "nbformat_minor": 0,
  "metadata": {
    "colab": {
      "name": "exercise_array_datastrcuture_codebasics.ipynb",
      "provenance": [],
      "authorship_tag": "ABX9TyPrE/+VKK1zml57EW1lPnkM",
      "include_colab_link": true
    },
    "kernelspec": {
      "name": "python3",
      "display_name": "Python 3"
    }
  },
  "cells": [
    {
      "cell_type": "markdown",
      "metadata": {
        "id": "view-in-github",
        "colab_type": "text"
      },
      "source": [
        "<a href=\"https://colab.research.google.com/github/luchettidr/eqdiferenciais2aordem/blob/master/exercise_array_datastrcuture_codebasics.ipynb\" target=\"_parent\"><img src=\"https://colab.research.google.com/assets/colab-badge.svg\" alt=\"Open In Colab\"/></a>"
      ]
    },
    {
      "cell_type": "markdown",
      "metadata": {
        "id": "BfrkInsTWVjT"
      },
      "source": [
        "# Exercise: Array DataStructure\n",
        "\n",
        "1. Let us say your expense for every month are listed below,\n",
        "\t1. January -  2200\n",
        " \t2. February - 2350\n",
        "    3. March - 2600\n",
        "    4. April - 2130\n",
        "    5. May - 2190\n",
        "\n",
        "\n",
        "    Create a list to store these monthly expenses and using that find out,\n",
        "\n",
        "    1. In Feb, how many dollars you spent extra compare to January?\n",
        "    2. Find out your total expense in first quarter (first three months) of the year.\n",
        "    3. Find out if you spent exactly 2000 dollars in any month\n",
        "    4. June month just finished and your expense is 1980 dollar. Add this item to our monthly expense list\n",
        "    5. You returned an item that you bought in a month of April and\n",
        "    got a refund of 200$. Make a correction to your monthly expense list\n",
        "    based on this\n",
        "    "
      ]
    },
    {
      "cell_type": "markdown",
      "metadata": {
        "id": "lbyj13pcW6Sp"
      },
      "source": [
        "### SOLUTION"
      ]
    },
    {
      "cell_type": "code",
      "metadata": {
        "id": "QafZ3K8nW62e"
      },
      "source": [
        "exp = [2200, 2350, 2600, 2130]"
      ],
      "execution_count": 34,
      "outputs": []
    },
    {
      "cell_type": "code",
      "metadata": {
        "id": "t_4kFbyGYA3D",
        "outputId": "d12c44c4-0849-4946-94cd-5f23cab5efcc",
        "colab": {
          "base_uri": "https://localhost:8080/",
          "height": 34
        }
      },
      "source": [
        "\"1 - Answer \" ,exp[1]-exp[0]"
      ],
      "execution_count": 35,
      "outputs": [
        {
          "output_type": "execute_result",
          "data": {
            "text/plain": [
              "('1 - Answer ', 150)"
            ]
          },
          "metadata": {
            "tags": []
          },
          "execution_count": 35
        }
      ]
    },
    {
      "cell_type": "code",
      "metadata": {
        "id": "CSLbRYj1XS00",
        "outputId": "dc67a7d9-3ca7-4df0-c487-d444e0039aea",
        "colab": {
          "base_uri": "https://localhost:8080/",
          "height": 34
        }
      },
      "source": [
        "\"2 - Answer \" ,sum(exp)-exp[3]"
      ],
      "execution_count": 36,
      "outputs": [
        {
          "output_type": "execute_result",
          "data": {
            "text/plain": [
              "('2 - Answer ', 7150)"
            ]
          },
          "metadata": {
            "tags": []
          },
          "execution_count": 36
        }
      ]
    },
    {
      "cell_type": "code",
      "metadata": {
        "id": "RRxAEH_nXcK6",
        "outputId": "e04756d0-8b21-4fa8-e9a0-94ad013f5303",
        "colab": {
          "base_uri": "https://localhost:8080/",
          "height": 34
        }
      },
      "source": [
        "\"3 - Answer \" , 2000 in exp"
      ],
      "execution_count": 37,
      "outputs": [
        {
          "output_type": "execute_result",
          "data": {
            "text/plain": [
              "('3 - Answer ', False)"
            ]
          },
          "metadata": {
            "tags": []
          },
          "execution_count": 37
        }
      ]
    },
    {
      "cell_type": "code",
      "metadata": {
        "id": "qV_3nBv7WQyZ",
        "outputId": "8db17bc6-2c4b-4e2c-98a9-b300305c2ccb",
        "colab": {
          "base_uri": "https://localhost:8080/",
          "height": 34
        }
      },
      "source": [
        "\n",
        "\"4 - Answer \" , exp.append(1980), exp"
      ],
      "execution_count": 43,
      "outputs": [
        {
          "output_type": "execute_result",
          "data": {
            "text/plain": [
              "('4 - Answer ', None, [2200, 2350, 2600, 2130, 1980, 1980, 1980])"
            ]
          },
          "metadata": {
            "tags": []
          },
          "execution_count": 43
        }
      ]
    },
    {
      "cell_type": "markdown",
      "metadata": {
        "id": "p6KdCKEdWmFJ"
      },
      "source": [
        "#2. You have a list of your favourite marvel super heros.\n",
        "```\n",
        "heros=['spider man','thor','hulk','iron man','captain america']\n",
        "```\n",
        "\n",
        "Using this find out,\n",
        "\n",
        "    1. Length of the list\n",
        "    2. Add 'black panther' at the end of this list\n",
        "    3. You realize that you need to add 'black panther' after 'hulk',\n",
        "       so remove it from the list first and then add it after 'hulk'\n",
        "    4. Now you don't like thor and hulk because they get angry easily :)\n",
        "       So you want to remove thor and hulk from list and replace them with doctor strange (because he is cool).\n",
        "       Do that with one line of code.\n",
        "    5. Sort the heros list in alphabetical order (Hint. Use dir() functions to list down all functions available in list)\n",
        "    "
      ]
    },
    {
      "cell_type": "markdown",
      "metadata": {
        "id": "WYwmdxAYW1Kr"
      },
      "source": [
        "### SOLUTION"
      ]
    },
    {
      "cell_type": "code",
      "metadata": {
        "id": "zAIg3PA7W5GS"
      },
      "source": [
        "heros=['spider man','thor','hulk','iron man','captain america']"
      ],
      "execution_count": 44,
      "outputs": []
    },
    {
      "cell_type": "code",
      "metadata": {
        "id": "jsF2WVSCWqQN",
        "outputId": "b534a712-0760-45c9-ea39-1e5a256595f4",
        "colab": {
          "base_uri": "https://localhost:8080/",
          "height": 34
        }
      },
      "source": [
        "\"1 - Answer: \", len(heros)"
      ],
      "execution_count": 46,
      "outputs": [
        {
          "output_type": "execute_result",
          "data": {
            "text/plain": [
              "('1 - Answer: ', 5)"
            ]
          },
          "metadata": {
            "tags": []
          },
          "execution_count": 46
        }
      ]
    },
    {
      "cell_type": "code",
      "metadata": {
        "id": "Rh4yj-ahaZQt"
      },
      "source": [
        "heros.append('black panther')"
      ],
      "execution_count": 47,
      "outputs": []
    },
    {
      "cell_type": "code",
      "metadata": {
        "id": "oSqwWm4samdN",
        "outputId": "3c4dd233-9a0e-48df-92b5-e1b996eb29ea",
        "colab": {
          "base_uri": "https://localhost:8080/",
          "height": 139
        }
      },
      "source": [
        "\"2 - Answer:\", heros"
      ],
      "execution_count": 49,
      "outputs": [
        {
          "output_type": "execute_result",
          "data": {
            "text/plain": [
              "('2 - Answer:',\n",
              " ['spider man',\n",
              "  'thor',\n",
              "  'hulk',\n",
              "  'iron man',\n",
              "  'captain america',\n",
              "  'black panther'])"
            ]
          },
          "metadata": {
            "tags": []
          },
          "execution_count": 49
        }
      ]
    },
    {
      "cell_type": "code",
      "metadata": {
        "id": "6qZnwvfSarbP",
        "outputId": "c87c5d51-0251-4aa6-f91f-a80718e1f504",
        "colab": {
          "base_uri": "https://localhost:8080/",
          "height": 34
        }
      },
      "source": [
        "heros.remove('black panther')\n",
        "heros.insert(3, 'black panther')\n",
        "heros\n"
      ],
      "execution_count": 52,
      "outputs": [
        {
          "output_type": "execute_result",
          "data": {
            "text/plain": [
              "['spider man', 'thor', 'hulk', 'black panther', 'iron man', 'captain america']"
            ]
          },
          "metadata": {
            "tags": []
          },
          "execution_count": 52
        }
      ]
    },
    {
      "cell_type": "code",
      "metadata": {
        "id": "ntyzqI76bEu0",
        "outputId": "50ba1b68-06b3-4904-a2bf-37390d4fe876",
        "colab": {
          "base_uri": "https://localhost:8080/",
          "height": 34
        }
      },
      "source": [
        "heros.sort()\n",
        "heros"
      ],
      "execution_count": 54,
      "outputs": [
        {
          "output_type": "execute_result",
          "data": {
            "text/plain": [
              "['black panther', 'captain america', 'hulk', 'iron man', 'spider man', 'thor']"
            ]
          },
          "metadata": {
            "tags": []
          },
          "execution_count": 54
        }
      ]
    },
    {
      "cell_type": "markdown",
      "metadata": {
        "id": "pvavdC8TWwsN"
      },
      "source": [
        "3. Create a list of all odd numbers between 1 and a max number.\n",
        "Max number is something you need to take from a user using input() function"
      ]
    },
    {
      "cell_type": "markdown",
      "metadata": {
        "id": "C0_DTeSWW8WU"
      },
      "source": [
        "### SOLUTION\n"
      ]
    },
    {
      "cell_type": "code",
      "metadata": {
        "id": "zzH-goDcWyiJ",
        "outputId": "a584c7e0-3f8e-4c8c-aac1-94c7d32a7f3f",
        "colab": {
          "base_uri": "https://localhost:8080/",
          "height": 52
        }
      },
      "source": [
        "max = int(input(\"Enter max number: \"))\n",
        "\n",
        "odd_numbers = []\n",
        "\n",
        "for i in range(max):\n",
        "    if i%2 == 1:\n",
        "        odd_numbers.append(i)\n",
        "\n",
        "print(\"Odd numbers: \",odd_numbers)"
      ],
      "execution_count": 68,
      "outputs": [
        {
          "output_type": "stream",
          "text": [
            "Enter max number: 5\n",
            "Odd numbers:  [1, 3]\n"
          ],
          "name": "stdout"
        }
      ]
    }
  ]
}