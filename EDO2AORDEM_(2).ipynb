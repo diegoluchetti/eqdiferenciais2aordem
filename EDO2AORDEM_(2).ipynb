{
  "nbformat": 4,
  "nbformat_minor": 0,
  "metadata": {
    "kernelspec": {
      "display_name": "Python 3",
      "language": "python",
      "name": "python3"
    },
    "language_info": {
      "codemirror_mode": {
        "name": "ipython",
        "version": 3
      },
      "file_extension": ".py",
      "mimetype": "text/x-python",
      "name": "python",
      "nbconvert_exporter": "python",
      "pygments_lexer": "ipython3",
      "version": "3.7.6"
    },
    "colab": {
      "name": "EDO2AORDEM (2).ipynb",
      "provenance": [],
      "include_colab_link": true
    }
  },
  "cells": [
    {
      "cell_type": "markdown",
      "metadata": {
        "id": "view-in-github",
        "colab_type": "text"
      },
      "source": [
        "<a href=\"https://colab.research.google.com/github/luchettidr/eqdiferenciais2aordem/blob/master/EDO2AORDEM_(2).ipynb\" target=\"_parent\"><img src=\"https://colab.research.google.com/assets/colab-badge.svg\" alt=\"Open In Colab\"/></a>"
      ]
    },
    {
      "cell_type": "markdown",
      "metadata": {
        "id": "qId7wMNNXPgd"
      },
      "source": [
        "# DETERMINANDO EQUAÇÕES LINEARES DE 2a ORDEM"
      ]
    },
    {
      "cell_type": "code",
      "metadata": {
        "id": "HnRWi6HPXPge"
      },
      "source": [
        "import math\n",
        "from sympy import *\n",
        "from math import e"
      ],
      "execution_count": null,
      "outputs": []
    },
    {
      "cell_type": "markdown",
      "metadata": {
        "id": "jr5kCxdsXPgl"
      },
      "source": [
        "### Insira o coeficiente de y\""
      ]
    },
    {
      "cell_type": "code",
      "metadata": {
        "id": "8x6rCWObXPgm"
      },
      "source": [
        "yll = 1"
      ],
      "execution_count": null,
      "outputs": []
    },
    {
      "cell_type": "markdown",
      "metadata": {
        "id": "Wl70Dj81XPgs"
      },
      "source": [
        "### Insira o coeficiente de y'"
      ]
    },
    {
      "cell_type": "code",
      "metadata": {
        "id": "INoEDz8pXPgu"
      },
      "source": [
        "yl = 6"
      ],
      "execution_count": null,
      "outputs": []
    },
    {
      "cell_type": "markdown",
      "metadata": {
        "id": "pMgm0q4mXPgz"
      },
      "source": [
        "### Insira o coeficiente de y"
      ]
    },
    {
      "cell_type": "code",
      "metadata": {
        "id": "UHTc2q7sXPg0"
      },
      "source": [
        "y = 150"
      ],
      "execution_count": null,
      "outputs": []
    },
    {
      "cell_type": "markdown",
      "metadata": {
        "id": "IrWs1Vg8XPg6"
      },
      "source": [
        "# Transformando"
      ]
    },
    {
      "cell_type": "code",
      "metadata": {
        "id": "zSQV3gOhXPg7"
      },
      "source": [
        "a = yll\n",
        "b = yl\n",
        "c = y"
      ],
      "execution_count": null,
      "outputs": []
    },
    {
      "cell_type": "markdown",
      "metadata": {
        "id": "pXqGlHLmXPhA"
      },
      "source": [
        "## Calculando as raízes:"
      ]
    },
    {
      "cell_type": "code",
      "metadata": {
        "id": "e91UHjXmXPhB"
      },
      "source": [
        "dlt = (b*b)-(4*a*c)"
      ],
      "execution_count": null,
      "outputs": []
    },
    {
      "cell_type": "code",
      "metadata": {
        "id": "20F-ETgkXPhG"
      },
      "source": [
        "from sympy import I"
      ],
      "execution_count": null,
      "outputs": []
    },
    {
      "cell_type": "code",
      "metadata": {
        "id": "ZKk8mgdHXPhN",
        "outputId": "5126a2b0-a8c2-47ec-b144-03a069322c33"
      },
      "source": [
        "if dlt > 0 :\n",
        "    rdlt = pow(dlt,0.5)\n",
        "    m1 = ((-b-rdlt)/(2*a))\n",
        "    m2 = round(((-b+rdlt)/(2*a)),2)\n",
        "    print(f'Equação do Caso 1: Delta = {dlt}')\n",
        "elif dlt == 0:\n",
        "    rdlt = 0\n",
        "    m1 = ((-b-rdlt)/(2*a))\n",
        "    m2 = round(((-b+rdlt)/(2*a)),2)\n",
        "    print(f'Equação do Caso 2: Delta = {dlt}')\n",
        "else: \n",
        "    rdlt = (pow((-1*dlt),0.5))*I\n",
        "    m3 = -b/(2*a)\n",
        "    m4 = rdlt/(2*a*I)\n",
        "    print(f'Equação do Caso 3: Delta = {dlt}')\n",
        "    "
      ],
      "execution_count": null,
      "outputs": [
        {
          "output_type": "stream",
          "text": [
            "Equação do Caso 1: Delta = 25\n"
          ],
          "name": "stdout"
        }
      ]
    },
    {
      "cell_type": "code",
      "metadata": {
        "id": "7W_A9cZ2XPhS"
      },
      "source": [
        "m1 = ((-b-rdlt)/(2*a))"
      ],
      "execution_count": null,
      "outputs": []
    },
    {
      "cell_type": "code",
      "metadata": {
        "id": "kPAG1A8CXPhW"
      },
      "source": [
        "m2 = round(((-b+rdlt)/(2*a)),2)"
      ],
      "execution_count": null,
      "outputs": []
    },
    {
      "cell_type": "code",
      "metadata": {
        "id": "00Wbtu2yXPhf",
        "outputId": "cb216774-e425-4307-b775-ab0a0e7bac43"
      },
      "source": [
        "print (f\"As raizes da equação quadrática são: {m1} e {m2}\")"
      ],
      "execution_count": null,
      "outputs": [
        {
          "output_type": "stream",
          "text": [
            "As raizes da equação quadrática são: 10.0 e 15.0\n"
          ],
          "name": "stdout"
        }
      ]
    },
    {
      "cell_type": "markdown",
      "metadata": {
        "id": "AWRdR6qjXPhl"
      },
      "source": [
        "# Determinando Y"
      ]
    },
    {
      "cell_type": "code",
      "metadata": {
        "id": "C8FNaNKRXPhm",
        "outputId": "e5f2c760-9860-4820-e333-e68a737bee0b"
      },
      "source": [
        "from sympy import *\n",
        "x,C1,C2,E = symbols ('x C1 C2 E')\n",
        "from math import e\n",
        "\n",
        "if dlt > 0 :\n",
        "    y = (C1*e**(m1*x)) + (C2*e**(m2*x))\n",
        "    print (f'y = {C1}*e^({m1*x})+ {C2}*e^({m2*x})')\n",
        "elif dlt == 0:\n",
        "    y = (C1*e**(m1*x)) + (C2*x*e**(m2*x))\n",
        "    print (f'y = {C1}*e^({m1*x})+ {C2}*e^({m2*x})')\n",
        "else: \n",
        "    y = (e**(m3*x))*((C1*cos(m4*x))+(C2*sin(m4*x)))\n",
        "    print (f'y = (e^({m3*x}))*({C1}*cos({m4*x})+{C2}*sen({m4*x}))')\n",
        "    "
      ],
      "execution_count": null,
      "outputs": [
        {
          "output_type": "stream",
          "text": [
            "y = C1*e^(10.0*x)+ C2*e^(15.0*x)\n"
          ],
          "name": "stdout"
        }
      ]
    },
    {
      "cell_type": "markdown",
      "metadata": {
        "id": "GpkstmrDXPht"
      },
      "source": [
        "# Achando os valores das Constantes"
      ]
    },
    {
      "cell_type": "markdown",
      "metadata": {
        "id": "F-UbtNRUXPhu"
      },
      "source": [
        "### Definindo quais valores de referencia o exercício traz:"
      ]
    },
    {
      "cell_type": "code",
      "metadata": {
        "id": "_EgJuT0eXPhv"
      },
      "source": [
        "y0 = 5"
      ],
      "execution_count": null,
      "outputs": []
    },
    {
      "cell_type": "code",
      "metadata": {
        "id": "Afsi9fLAXPhz"
      },
      "source": [
        "yl0 = 10"
      ],
      "execution_count": null,
      "outputs": []
    },
    {
      "cell_type": "markdown",
      "metadata": {
        "id": "4-p-ggUAXPh4"
      },
      "source": [
        "### Definindo qual dos três modelos de equação diferencial de segunda ordem ele irá resolver"
      ]
    },
    {
      "cell_type": "code",
      "metadata": {
        "id": "MfOEXWcvXPh5"
      },
      "source": [
        "\n",
        "if dlt > 0 :\n",
        "    y = (C1*e**(m1*x)) + (C2*e**(m2*x))\n",
        "elif dlt == 0:\n",
        "    y = (C1*e**(m1*x)) + (C2*x*e**(m2*x))\n",
        "else: \n",
        "    y = (e**(m3*x))*((C1*cos(m4*x))+(C2*sin(m4*x)))"
      ],
      "execution_count": null,
      "outputs": []
    },
    {
      "cell_type": "markdown",
      "metadata": {
        "id": "_no7c-sHXPh8"
      },
      "source": [
        "### Calculando a formula do y:"
      ]
    },
    {
      "cell_type": "code",
      "metadata": {
        "id": "Q0KjieuRXPh9",
        "outputId": "2fa75820-ce19-46e6-d8f6-d3585dcd0f8f"
      },
      "source": [
        "y\n"
      ],
      "execution_count": null,
      "outputs": [
        {
          "output_type": "execute_result",
          "data": {
            "text/latex": "$\\displaystyle 2.71828182845905^{10.0 x} C_{1} + 2.71828182845905^{15.0 x} C_{2}$",
            "text/plain": [
              "2.71828182845905**(10.0*x)*C1 + 2.71828182845905**(15.0*x)*C2"
            ]
          },
          "metadata": {
            "tags": []
          },
          "execution_count": 30
        }
      ]
    },
    {
      "cell_type": "markdown",
      "metadata": {
        "id": "nGhPdwVeXPiD"
      },
      "source": [
        "### Calculando y':"
      ]
    },
    {
      "cell_type": "code",
      "metadata": {
        "id": "ct35m70kXPiD"
      },
      "source": [
        "dy = y.diff(x)\n"
      ],
      "execution_count": null,
      "outputs": []
    },
    {
      "cell_type": "code",
      "metadata": {
        "id": "NojekMHHXPiH",
        "outputId": "f3a2f67b-9beb-49d5-c157-739d70692814"
      },
      "source": [
        "dy"
      ],
      "execution_count": null,
      "outputs": [
        {
          "output_type": "execute_result",
          "data": {
            "text/latex": "$\\displaystyle 10.0 \\cdot 2.71828182845905^{10.0 x} C_{1} + 15.0 \\cdot 2.71828182845905^{15.0 x} C_{2}$",
            "text/plain": [
              "10.0*2.71828182845905**(10.0*x)*C1 + 15.0*2.71828182845905**(15.0*x)*C2"
            ]
          },
          "metadata": {
            "tags": []
          },
          "execution_count": 32
        }
      ]
    },
    {
      "cell_type": "markdown",
      "metadata": {
        "id": "qvGtRc9iXPiL"
      },
      "source": [
        "### Resolvendo y e y' para X = 0;"
      ]
    },
    {
      "cell_type": "code",
      "metadata": {
        "id": "Xi2QXMloXPiM"
      },
      "source": [
        "c1 = (y.subs(x,0))"
      ],
      "execution_count": null,
      "outputs": []
    },
    {
      "cell_type": "code",
      "metadata": {
        "id": "xxwRoRmWXPiR"
      },
      "source": [
        "c2 = (dy.subs(x,0))"
      ],
      "execution_count": null,
      "outputs": []
    },
    {
      "cell_type": "markdown",
      "metadata": {
        "id": "MdOXXz4DXPiV"
      },
      "source": [
        "### Equação do y(0):"
      ]
    },
    {
      "cell_type": "code",
      "metadata": {
        "id": "wKS7TMbBXPiW",
        "outputId": "56f694fd-a24a-4bbf-c3ab-58560fefc0be"
      },
      "source": [
        "c1"
      ],
      "execution_count": null,
      "outputs": [
        {
          "output_type": "execute_result",
          "data": {
            "text/latex": "$\\displaystyle C_{1} + C_{2}$",
            "text/plain": [
              "C1 + C2"
            ]
          },
          "metadata": {
            "tags": []
          },
          "execution_count": 35
        }
      ]
    },
    {
      "cell_type": "markdown",
      "metadata": {
        "id": "Offl9H50XPic"
      },
      "source": [
        "### Equação do y'(0)"
      ]
    },
    {
      "cell_type": "code",
      "metadata": {
        "id": "cocR4Uo6XPid",
        "outputId": "c74060e8-7b7a-436b-ebfd-21e5be93f70a"
      },
      "source": [
        "c2"
      ],
      "execution_count": null,
      "outputs": [
        {
          "output_type": "execute_result",
          "data": {
            "text/latex": "$\\displaystyle 10.0 C_{1} + 15.0 C_{2}$",
            "text/plain": [
              "10.0*C1 + 15.0*C2"
            ]
          },
          "metadata": {
            "tags": []
          },
          "execution_count": 36
        }
      ]
    },
    {
      "cell_type": "markdown",
      "metadata": {
        "id": "kPahEhGEXPii"
      },
      "source": [
        "### Resolvendo o sistema linear para encontrar as constantes C1 e C2: "
      ]
    },
    {
      "cell_type": "code",
      "metadata": {
        "id": "engdq8ILXPij"
      },
      "source": [
        "r = solve([c1-y0,c2-yl0],(C1,C2))"
      ],
      "execution_count": null,
      "outputs": []
    },
    {
      "cell_type": "markdown",
      "metadata": {
        "id": "qy2dlmZfXPio"
      },
      "source": [
        "# Valor de C1 E C2:"
      ]
    },
    {
      "cell_type": "code",
      "metadata": {
        "id": "OBHQvM4vXPip",
        "outputId": "31cfc2d0-c34b-4376-f775-ca1ae408d493"
      },
      "source": [
        "print(r)"
      ],
      "execution_count": null,
      "outputs": [
        {
          "output_type": "stream",
          "text": [
            "{C1: 13.0000000000000, C2: -8.00000000000000}\n"
          ],
          "name": "stdout"
        }
      ]
    }
  ]
}